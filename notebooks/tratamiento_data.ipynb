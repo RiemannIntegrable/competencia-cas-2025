{
 "cells": [
  {
   "cell_type": "markdown",
   "id": "151a605c",
   "metadata": {},
   "source": [
    "Separacion de daatframe"
   ]
  },
  {
   "cell_type": "code",
   "execution_count": 7,
   "id": "f9075dd8",
   "metadata": {},
   "outputs": [],
   "source": [
    "import pandas as pd"
   ]
  },
  {
   "cell_type": "code",
   "execution_count": null,
   "id": "916a04d2",
   "metadata": {},
   "outputs": [],
   "source": [
    "train = pd.read_csv(\"../data/input/input.csv\")\n",
    "train = train[train[\"retencion\"] == \"entrenamiento\"]\n",
    "\n",
    "# Eliminar las columnas (todas existen según el Index que mostraste)\n",
    "train = train.drop([\"nombre\", \"estudiante_id\", \"clase_suscripcion\", \"en_campus\", \"retencion\"], axis=1)\n",
    "\n",
    "# Gastos Adicionales de Vivienda\n",
    "adicionales_full = train.drop([\n",
    "    \"Gastos_Medicos_RC_siniestros_num\", \"Gastos_Medicos_RC_siniestros_monto\",\n",
    "    \"Resp_Civil_siniestros_num\", \"Resp_Civil_siniestros_monto\",\n",
    "    \"Contenidos_siniestros_num\", \"Contenidos_siniestros_monto\"\n",
    "], axis=1)\n",
    "\n",
    "adicionales_siniestrados = train[train[\"Gastos_Adicionales_siniestros_num\"] > 0].copy()\n",
    "\n",
    "# Gastos Médicos RC\n",
    "medicos_full = train.drop([\n",
    "    \"Gastos_Adicionales_siniestros_num\", \"Gastos_Adicionales_siniestros_monto\",\n",
    "    \"Resp_Civil_siniestros_num\", \"Resp_Civil_siniestros_monto\",\n",
    "    \"Contenidos_siniestros_num\", \"Contenidos_siniestros_monto\"\n",
    "], axis=1)\n",
    "\n",
    "medicos_siniestrados = train[train[\"Gastos_Medicos_RC_siniestros_num\"] > 0].copy()\n",
    "\n",
    "# Responsabilidad Civil\n",
    "rc = train[train[\"Resp_Civil_siniestros_num\"] > 0].copy()\n",
    "rc = rc.drop([\n",
    "    \"Gastos_Adicionales_siniestros_num\", \"Gastos_Adicionales_siniestros_monto\",\n",
    "    \"Gastos_Medicos_RC_siniestros_num\", \"Gastos_Medicos_RC_siniestros_monto\",\n",
    "    \"Contenidos_siniestros_num\", \"Contenidos_siniestros_monto\"\n",
    "], axis=1)\n",
    "\n",
    "# Contenidos\n",
    "contenidos = train[train[\"Contenidos_siniestros_num\"] > 0].copy()\n",
    "contenidos = contenidos.drop([\n",
    "    \"Gastos_Adicionales_siniestros_num\", \"Gastos_Adicionales_siniestros_monto\",\n",
    "    \"Gastos_Medicos_RC_siniestros_num\", \"Gastos_Medicos_RC_siniestros_monto\",\n",
    "    \"Resp_Civil_siniestros_num\", \"Resp_Civil_siniestros_monto\"\n",
    "], axis=1)"
   ]
  },
  {
   "cell_type": "code",
   "execution_count": 9,
   "id": "k38fxyrme8n",
   "metadata": {},
   "outputs": [
    {
     "name": "stdout",
     "output_type": "stream",
     "text": [
      "✓ Gastos Adicionales: 416 registros\n",
      "✓ Gastos Médicos RC: 183 registros\n",
      "✓ Responsabilidad Civil: 67 registros\n",
      "✓ Contenidos: 743 registros\n"
     ]
    }
   ],
   "source": [
    "# Exportar a CSV en data/processed\n",
    "adicionales.to_csv(\"../data/processed/gastos_adicionales.csv\", index=False)\n",
    "medicos.to_csv(\"../data/processed/gastos_medicos_rc.csv\", index=False)\n",
    "rc.to_csv(\"../data/processed/responsabilidad_civil.csv\", index=False)\n",
    "contenidos.to_csv(\"../data/processed/contenidos.csv\", index=False)\n",
    "\n",
    "print(f\"✓ Gastos Adicionales: {len(adicionales)} registros\")\n",
    "print(f\"✓ Gastos Médicos RC: {len(medicos)} registros\")\n",
    "print(f\"✓ Responsabilidad Civil: {len(rc)} registros\")\n",
    "print(f\"✓ Contenidos: {len(contenidos)} registros\")"
   ]
  }
 ],
 "metadata": {
  "kernelspec": {
   "display_name": "competencia_cas_python",
   "language": "python",
   "name": "python3"
  },
  "language_info": {
   "codemirror_mode": {
    "name": "ipython",
    "version": 3
   },
   "file_extension": ".py",
   "mimetype": "text/x-python",
   "name": "python",
   "nbconvert_exporter": "python",
   "pygments_lexer": "ipython3",
   "version": "3.13.7"
  }
 },
 "nbformat": 4,
 "nbformat_minor": 5
}
