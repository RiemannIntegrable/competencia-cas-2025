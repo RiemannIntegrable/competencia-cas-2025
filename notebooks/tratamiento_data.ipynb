{
 "cells": [
  {
   "cell_type": "markdown",
   "id": "151a605c",
   "metadata": {},
   "source": [
    "Separacion de daatframe"
   ]
  },
  {
   "cell_type": "code",
   "execution_count": 6,
   "id": "f9075dd8",
   "metadata": {},
   "outputs": [],
   "source": [
    "import pandas as pd"
   ]
  },
  {
   "cell_type": "code",
   "execution_count": 7,
   "id": "916a04d2",
   "metadata": {},
   "outputs": [],
   "source": [
    "train = pd.read_csv(\"../data/input/input.csv\")\n",
    "train = train[train[\"retencion\"] == \"entrenamiento\"]\n",
    "\n",
    "# Eliminar las columnas (todas existen según el Index que mostraste)\n",
    "train = train.drop([\"nombre\", \"estudiante_id\", \"clase_suscripcion\", \"en_campus\", \"retencion\"], axis=1)\n",
    "\n",
    "# Gastos Adicionales de Vivienda\n",
    "adicionales_full = train.drop([\n",
    "    \"Gastos_Medicos_RC_siniestros_num\", \"Gastos_Medicos_RC_siniestros_monto\",\n",
    "    \"Resp_Civil_siniestros_num\", \"Resp_Civil_siniestros_monto\",\n",
    "    \"Contenidos_siniestros_num\", \"Contenidos_siniestros_monto\"\n",
    "], axis=1)\n",
    "\n",
    "adicionales_siniestrados = train[train[\"Gastos_Adicionales_siniestros_num\"] > 0].copy()\n",
    "\n",
    "# Gastos Médicos RC\n",
    "medicos_full = train.drop([\n",
    "    \"Gastos_Adicionales_siniestros_num\", \"Gastos_Adicionales_siniestros_monto\",\n",
    "    \"Resp_Civil_siniestros_num\", \"Resp_Civil_siniestros_monto\",\n",
    "    \"Contenidos_siniestros_num\", \"Contenidos_siniestros_monto\"\n",
    "], axis=1)\n",
    "\n",
    "medicos_siniestrados = train[train[\"Gastos_Medicos_RC_siniestros_num\"] > 0].copy()\n",
    "\n",
    "# Responsabilidad Civil\n",
    "rc_full = train.drop([\n",
    "    \"Gastos_Adicionales_siniestros_num\", \"Gastos_Adicionales_siniestros_monto\",\n",
    "    \"Gastos_Medicos_RC_siniestros_num\", \"Gastos_Medicos_RC_siniestros_monto\",\n",
    "    \"Contenidos_siniestros_num\", \"Contenidos_siniestros_monto\"\n",
    "], axis=1)\n",
    "rc_siniestrados = train[train[\"Resp_Civil_siniestros_num\"] > 0].copy()\n",
    "\n",
    "# Contenidos\n",
    "contenidos_full = train.drop([\n",
    "    \"Gastos_Adicionales_siniestros_num\", \"Gastos_Adicionales_siniestros_monto\",\n",
    "    \"Gastos_Medicos_RC_siniestros_num\", \"Gastos_Medicos_RC_siniestros_monto\",\n",
    "    \"Resp_Civil_siniestros_num\", \"Resp_Civil_siniestros_monto\"\n",
    "], axis=1)\n",
    "contenidos_siniestrados = train[train[\"Contenidos_siniestros_num\"] > 0].copy()"
   ]
  },
  {
   "cell_type": "code",
   "execution_count": 8,
   "id": "k38fxyrme8n",
   "metadata": {},
   "outputs": [
    {
     "name": "stdout",
     "output_type": "stream",
     "text": [
      "✓ Gastos Adicionales full: 7999 registros\n",
      "✓ Gastos Adicionales siniestrados: 416 registros\n",
      "✓ Gastos Médicos RC full: 7999 registros\n",
      "✓ Gastos Médicos RC siniestrados: 183 registros\n",
      "✓ Responsabilidad Civil full: 7999 registros\n",
      "✓ Responsabilidad Civil siniestrados: 67 registros\n",
      "✓ Contenido full: 7999 registros\n",
      "✓ Contenidos siniestrados: 743 registros\n"
     ]
    }
   ],
   "source": [
    "# Exportar a CSV en data/processed\n",
    "adicionales_full.to_csv(\"../data/processed/adicionales_full.csv\", index=False)\n",
    "print(f\"✓ Gastos Adicionales full: {len(adicionales_full)} registros\")\n",
    "adicionales_siniestrados.to_csv(\"../data/processed/adicionales_siniestrados.csv\", index=False)\n",
    "print(f\"✓ Gastos Adicionales siniestrados: {len(adicionales_siniestrados)} registros\")\n",
    "\n",
    "medicos_full.to_csv(\"../data/processed/medicos_full.csv\", index=False)\n",
    "print(f\"✓ Gastos Médicos RC full: {len(medicos_full)} registros\")\n",
    "medicos_siniestrados.to_csv(\"../data/processed/medicos_siniestrados.csv\", index=False)\n",
    "print(f\"✓ Gastos Médicos RC siniestrados: {len(medicos_siniestrados)} registros\")\n",
    "\n",
    "rc_full.to_csv(\"../data/processed/rc_full.csv\", index=False)\n",
    "print(f\"✓ Responsabilidad Civil full: {len(rc_full)} registros\")\n",
    "rc_siniestrados.to_csv(\"../data/processed/rc_siniestrados.csv\", index=False)\n",
    "print(f\"✓ Responsabilidad Civil siniestrados: {len(rc_siniestrados)} registros\")\n",
    "\n",
    "contenidos_full.to_csv(\"../data/processed/contenidos_full.csv\", index=False)\n",
    "print(f\"✓ Contenido full: {len(contenidos_full)} registros\")\n",
    "contenidos_siniestrados.to_csv(\"../data/processed/contenidos_siniestrados.csv\", index=False)\n",
    "print(f\"✓ Contenidos siniestrados: {len(contenidos_siniestrados)} registros\")"
   ]
  },
  {
   "cell_type": "code",
   "execution_count": 11,
   "id": "7259ddec",
   "metadata": {},
   "outputs": [
    {
     "data": {
      "text/plain": [
       "(964, 15)"
      ]
     },
     "execution_count": 11,
     "metadata": {},
     "output_type": "execute_result"
    }
   ],
   "source": [
    "train1 = train[\n",
    "    (train[\"Contenidos_siniestros_num\"] > 0) |\n",
    "    (train[\"Resp_Civil_siniestros_num\"] > 0) |\n",
    "    (train[\"Gastos_Medicos_RC_siniestros_num\"] > 0)\n",
    "]\n",
    "train1.shape"
   ]
  },
  {
   "cell_type": "code",
   "execution_count": 12,
   "id": "c8776ba3",
   "metadata": {},
   "outputs": [
    {
     "data": {
      "text/plain": [
       "(7999, 15)"
      ]
     },
     "execution_count": 12,
     "metadata": {},
     "output_type": "execute_result"
    }
   ],
   "source": [
    "train.shape"
   ]
  }
 ],
 "metadata": {
  "kernelspec": {
   "display_name": "competencia_cas_python",
   "language": "python",
   "name": "python3"
  },
  "language_info": {
   "codemirror_mode": {
    "name": "ipython",
    "version": 3
   },
   "file_extension": ".py",
   "mimetype": "text/x-python",
   "name": "python",
   "nbconvert_exporter": "python",
   "pygments_lexer": "ipython3",
   "version": "3.13.7"
  }
 },
 "nbformat": 4,
 "nbformat_minor": 5
}
