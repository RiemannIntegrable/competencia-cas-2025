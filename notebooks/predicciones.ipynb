{
 "cells": [
  {
   "cell_type": "markdown",
   "metadata": {},
   "source": [
    "# Predicciones Finales - Competencia CAS y ACTEX 2025\n",
    "\n",
    "## Metodología\n",
    "Para cada estudiante en el conjunto de validación:\n",
    "1. **Por cada cobertura** (Contenidos, Adicionales, Médicos, RC):\n",
    "   - **Clasificación**: ¿Tuvo siniestro? (0 o 1)\n",
    "   - **Frecuencia**: ¿Cuántos siniestros? (si clasificación = 1)\n",
    "     - Contenidos: modelo predictivo\n",
    "     - Adicionales: **constante 1.0** (97.4% histórico)\n",
    "     - Médicos: modelo predictivo (corregido)\n",
    "     - RC: **constante 1.0** (100% histórico)\n",
    "   - **Severidad**: ¿Cuánto costó? (si clasificación = 1)\n",
    "   - **Monto cobertura = clasificación × frecuencia × severidad**\n",
    "2. **Predicción total = Suma de las 4 coberturas**\n",
    "\n",
    "## Modelos utilizados\n",
    "- **10 modelos predictivos** (clasificación + severidad para todas, frecuencia para Contenidos y Médicos)\n",
    "- **2 frecuencias constantes** (Adicionales = 1.0, RC = 1.0)"
   ]
  },
  {
   "cell_type": "code",
   "execution_count": 109,
   "metadata": {},
   "outputs": [
    {
     "name": "stdout",
     "output_type": "stream",
     "text": [
      "✓ Librerías importadas\n"
     ]
    }
   ],
   "source": [
    "# Imports\n",
    "import pandas as pd\n",
    "import numpy as np\n",
    "import joblib\n",
    "from sklearn.preprocessing import StandardScaler, LabelEncoder\n",
    "from sklearn.base import BaseEstimator, ClassifierMixin\n",
    "import warnings\n",
    "warnings.filterwarnings('ignore')\n",
    "\n",
    "print(\"✓ Librerías importadas\")"
   ]
  },
  {
   "cell_type": "markdown",
   "metadata": {},
   "source": [
    "## 1. Definir Clase ConstantFrequencyModel"
   ]
  },
  {
   "cell_type": "code",
   "execution_count": 110,
   "metadata": {},
   "outputs": [
    {
     "name": "stdout",
     "output_type": "stream",
     "text": [
      "✓ Clase ConstantFrequencyModel definida\n"
     ]
    }
   ],
   "source": [
    "class ConstantFrequencyModel(BaseEstimator, ClassifierMixin):\n",
    "    \"\"\"Modelo que siempre predice frecuencia = 1.0 (usado para RC)\"\"\"\n",
    "    \n",
    "    def __init__(self, constant_value=1.0):\n",
    "        self.constant_value = constant_value\n",
    "    \n",
    "    def fit(self, X, y):\n",
    "        unique_values = np.unique(y)\n",
    "        if len(unique_values) == 1:\n",
    "            self.constant_value = unique_values[0]\n",
    "        else:\n",
    "            self.constant_value = np.mean(y)\n",
    "        self.classes_ = unique_values\n",
    "        return self\n",
    "    \n",
    "    def predict(self, X):\n",
    "        return np.full(X.shape[0] if hasattr(X, 'shape') else len(X), self.constant_value)\n",
    "\n",
    "print(\"✓ Clase ConstantFrequencyModel definida\")"
   ]
  },
  {
   "cell_type": "markdown",
   "metadata": {},
   "source": [
    "## 2. Función para Extraer Modelo\n",
    "\n",
    "Maneja las diferentes estructuras de modelos guardados."
   ]
  },
  {
   "cell_type": "code",
   "execution_count": 111,
   "metadata": {},
   "outputs": [
    {
     "name": "stdout",
     "output_type": "stream",
     "text": [
      "✓ Funciones de extracción y threshold definidas\n"
     ]
    }
   ],
   "source": [
    "def get_model_object(model_dict):\n",
    "    \"\"\"Extrae el objeto del modelo de la estructura guardada\"\"\"\n",
    "    if isinstance(model_dict, dict):\n",
    "        # Intentar diferentes claves\n",
    "        if 'modelo' in model_dict:\n",
    "            return model_dict['modelo']\n",
    "        elif 'model' in model_dict:\n",
    "            return model_dict['model']\n",
    "        else:\n",
    "            # Si no tiene ninguna clave conocida, asumir que el dict ES el modelo\n",
    "            return model_dict\n",
    "    else:\n",
    "        # Si no es dict, asumir que es el modelo directamente\n",
    "        return model_dict\n",
    "\n",
    "def get_threshold(model_dict):\n",
    "    \"\"\"Extrae el threshold óptimo del modelo\"\"\"\n",
    "    if isinstance(model_dict, dict):\n",
    "        if 'threshold_optimo' in model_dict:\n",
    "            return model_dict['threshold_optimo']\n",
    "        elif 'threshold' in model_dict:\n",
    "            return model_dict['threshold']\n",
    "    return 0.5  # Default si no encuentra threshold\n",
    "\n",
    "def predict_with_threshold(modelo_raw, X_prep):\n",
    "    \"\"\"\n",
    "    Aplica predicción usando threshold óptimo del modelo.\n",
    "    Para modelos de clasificación solamente.\n",
    "    \"\"\"\n",
    "    modelo = get_model_object(modelo_raw)\n",
    "    threshold = get_threshold(modelo_raw)\n",
    "    \n",
    "    # Obtener probabilidades\n",
    "    if hasattr(modelo, 'predict_proba'):\n",
    "        y_proba = modelo.predict_proba(X_prep)[:, 1]\n",
    "    elif hasattr(modelo, 'decision_function'):\n",
    "        y_score = modelo.decision_function(X_prep)\n",
    "        # Normalizar scores a [0,1]\n",
    "        y_proba = (y_score - y_score.min()) / (y_score.max() - y_score.min() + 1e-10)\n",
    "    else:\n",
    "        # Si no tiene predict_proba, usar predict directo\n",
    "        return modelo.predict(X_prep)\n",
    "    \n",
    "    # Aplicar threshold\n",
    "    return (y_proba >= threshold).astype(int)\n",
    "\n",
    "print(\"✓ Funciones de extracción y threshold definidas\")"
   ]
  },
  {
   "cell_type": "markdown",
   "metadata": {},
   "source": [
    "## 3. Carga de Datos"
   ]
  },
  {
   "cell_type": "code",
   "execution_count": 112,
   "metadata": {},
   "outputs": [
    {
     "name": "stdout",
     "output_type": "stream",
     "text": [
      "Dataset completo: (10000, 20)\n",
      "\n",
      "Distribución de retención:\n",
      "retencion\n",
      "entrenamiento    7999\n",
      "validacion       2001\n",
      "Name: count, dtype: int64\n",
      "\n",
      "Dataset validación: (2001, 20)\n",
      "IDs de validación: 2001\n"
     ]
    },
    {
     "data": {
      "text/html": [
       "<div>\n",
       "<style scoped>\n",
       "    .dataframe tbody tr th:only-of-type {\n",
       "        vertical-align: middle;\n",
       "    }\n",
       "\n",
       "    .dataframe tbody tr th {\n",
       "        vertical-align: top;\n",
       "    }\n",
       "\n",
       "    .dataframe thead th {\n",
       "        text-align: right;\n",
       "    }\n",
       "</style>\n",
       "<table border=\"1\" class=\"dataframe\">\n",
       "  <thead>\n",
       "    <tr style=\"text-align: right;\">\n",
       "      <th></th>\n",
       "      <th>estudiante_id</th>\n",
       "      <th>nombre</th>\n",
       "      <th>año_cursado</th>\n",
       "      <th>estudios_area</th>\n",
       "      <th>calif_promedio</th>\n",
       "      <th>2_o_mas_inquilinos</th>\n",
       "      <th>en_campus</th>\n",
       "      <th>distancia_al_campus</th>\n",
       "      <th>genero</th>\n",
       "      <th>extintor_incendios</th>\n",
       "      <th>clase_suscripcion</th>\n",
       "      <th>retencion</th>\n",
       "      <th>Gastos_Adicionales_siniestros_num</th>\n",
       "      <th>Gastos_Adicionales_siniestros_monto</th>\n",
       "      <th>Gastos_Medicos_RC_siniestros_num</th>\n",
       "      <th>Gastos_Medicos_RC_siniestros_monto</th>\n",
       "      <th>Resp_Civil_siniestros_num</th>\n",
       "      <th>Resp_Civil_siniestros_monto</th>\n",
       "      <th>Contenidos_siniestros_num</th>\n",
       "      <th>Contenidos_siniestros_monto</th>\n",
       "    </tr>\n",
       "  </thead>\n",
       "  <tbody>\n",
       "    <tr>\n",
       "      <th>7</th>\n",
       "      <td>8</td>\n",
       "      <td>el-Sala, Khaleel</td>\n",
       "      <td>4to año</td>\n",
       "      <td>Humanidades</td>\n",
       "      <td>7.01</td>\n",
       "      <td>No</td>\n",
       "      <td>Fuera de campus</td>\n",
       "      <td>1.111582</td>\n",
       "      <td>Masculino</td>\n",
       "      <td>Si</td>\n",
       "      <td>Clase3</td>\n",
       "      <td>validacion</td>\n",
       "      <td>NaN</td>\n",
       "      <td>NaN</td>\n",
       "      <td>NaN</td>\n",
       "      <td>NaN</td>\n",
       "      <td>NaN</td>\n",
       "      <td>NaN</td>\n",
       "      <td>NaN</td>\n",
       "      <td>NaN</td>\n",
       "    </tr>\n",
       "    <tr>\n",
       "      <th>15</th>\n",
       "      <td>16</td>\n",
       "      <td>Fenton, Danielle</td>\n",
       "      <td>2do año</td>\n",
       "      <td>Administracion</td>\n",
       "      <td>1.87</td>\n",
       "      <td>No</td>\n",
       "      <td>Dentro de campus</td>\n",
       "      <td>0.000000</td>\n",
       "      <td>Masculino</td>\n",
       "      <td>Si</td>\n",
       "      <td>Clase1</td>\n",
       "      <td>validacion</td>\n",
       "      <td>NaN</td>\n",
       "      <td>NaN</td>\n",
       "      <td>NaN</td>\n",
       "      <td>NaN</td>\n",
       "      <td>NaN</td>\n",
       "      <td>NaN</td>\n",
       "      <td>NaN</td>\n",
       "      <td>NaN</td>\n",
       "    </tr>\n",
       "    <tr>\n",
       "      <th>30</th>\n",
       "      <td>31</td>\n",
       "      <td>Williams, Shaquelle</td>\n",
       "      <td>4to año</td>\n",
       "      <td>Ciencias</td>\n",
       "      <td>4.15</td>\n",
       "      <td>No</td>\n",
       "      <td>Fuera de campus</td>\n",
       "      <td>0.462273</td>\n",
       "      <td>Femenino</td>\n",
       "      <td>No</td>\n",
       "      <td>Clase3</td>\n",
       "      <td>validacion</td>\n",
       "      <td>NaN</td>\n",
       "      <td>NaN</td>\n",
       "      <td>NaN</td>\n",
       "      <td>NaN</td>\n",
       "      <td>NaN</td>\n",
       "      <td>NaN</td>\n",
       "      <td>NaN</td>\n",
       "      <td>NaN</td>\n",
       "    </tr>\n",
       "    <tr>\n",
       "      <th>48</th>\n",
       "      <td>49</td>\n",
       "      <td>Diaz, Rance</td>\n",
       "      <td>1er año</td>\n",
       "      <td>Otro</td>\n",
       "      <td>3.56</td>\n",
       "      <td>No</td>\n",
       "      <td>Dentro de campus</td>\n",
       "      <td>0.000000</td>\n",
       "      <td>Femenino</td>\n",
       "      <td>Si</td>\n",
       "      <td>Clase1</td>\n",
       "      <td>validacion</td>\n",
       "      <td>NaN</td>\n",
       "      <td>NaN</td>\n",
       "      <td>NaN</td>\n",
       "      <td>NaN</td>\n",
       "      <td>NaN</td>\n",
       "      <td>NaN</td>\n",
       "      <td>NaN</td>\n",
       "      <td>NaN</td>\n",
       "    </tr>\n",
       "    <tr>\n",
       "      <th>55</th>\n",
       "      <td>56</td>\n",
       "      <td>Law, Shawde</td>\n",
       "      <td>1er año</td>\n",
       "      <td>Otro</td>\n",
       "      <td>5.56</td>\n",
       "      <td>No</td>\n",
       "      <td>Dentro de campus</td>\n",
       "      <td>0.000000</td>\n",
       "      <td>Masculino</td>\n",
       "      <td>Si</td>\n",
       "      <td>Clase1</td>\n",
       "      <td>validacion</td>\n",
       "      <td>NaN</td>\n",
       "      <td>NaN</td>\n",
       "      <td>NaN</td>\n",
       "      <td>NaN</td>\n",
       "      <td>NaN</td>\n",
       "      <td>NaN</td>\n",
       "      <td>NaN</td>\n",
       "      <td>NaN</td>\n",
       "    </tr>\n",
       "  </tbody>\n",
       "</table>\n",
       "</div>"
      ],
      "text/plain": [
       "    estudiante_id               nombre año_cursado   estudios_area  \\\n",
       "7               8     el-Sala, Khaleel     4to año     Humanidades   \n",
       "15             16     Fenton, Danielle     2do año  Administracion   \n",
       "30             31  Williams, Shaquelle     4to año        Ciencias   \n",
       "48             49          Diaz, Rance     1er año            Otro   \n",
       "55             56          Law, Shawde     1er año            Otro   \n",
       "\n",
       "    calif_promedio 2_o_mas_inquilinos         en_campus  distancia_al_campus  \\\n",
       "7             7.01                 No   Fuera de campus             1.111582   \n",
       "15            1.87                 No  Dentro de campus             0.000000   \n",
       "30            4.15                 No   Fuera de campus             0.462273   \n",
       "48            3.56                 No  Dentro de campus             0.000000   \n",
       "55            5.56                 No  Dentro de campus             0.000000   \n",
       "\n",
       "       genero extintor_incendios clase_suscripcion   retencion  \\\n",
       "7   Masculino                 Si            Clase3  validacion   \n",
       "15  Masculino                 Si            Clase1  validacion   \n",
       "30   Femenino                 No            Clase3  validacion   \n",
       "48   Femenino                 Si            Clase1  validacion   \n",
       "55  Masculino                 Si            Clase1  validacion   \n",
       "\n",
       "    Gastos_Adicionales_siniestros_num  Gastos_Adicionales_siniestros_monto  \\\n",
       "7                                 NaN                                  NaN   \n",
       "15                                NaN                                  NaN   \n",
       "30                                NaN                                  NaN   \n",
       "48                                NaN                                  NaN   \n",
       "55                                NaN                                  NaN   \n",
       "\n",
       "    Gastos_Medicos_RC_siniestros_num  Gastos_Medicos_RC_siniestros_monto  \\\n",
       "7                                NaN                                 NaN   \n",
       "15                               NaN                                 NaN   \n",
       "30                               NaN                                 NaN   \n",
       "48                               NaN                                 NaN   \n",
       "55                               NaN                                 NaN   \n",
       "\n",
       "    Resp_Civil_siniestros_num  Resp_Civil_siniestros_monto  \\\n",
       "7                         NaN                          NaN   \n",
       "15                        NaN                          NaN   \n",
       "30                        NaN                          NaN   \n",
       "48                        NaN                          NaN   \n",
       "55                        NaN                          NaN   \n",
       "\n",
       "    Contenidos_siniestros_num  Contenidos_siniestros_monto  \n",
       "7                         NaN                          NaN  \n",
       "15                        NaN                          NaN  \n",
       "30                        NaN                          NaN  \n",
       "48                        NaN                          NaN  \n",
       "55                        NaN                          NaN  "
      ]
     },
     "execution_count": 112,
     "metadata": {},
     "output_type": "execute_result"
    }
   ],
   "source": [
    "# Cargar dataset completo\n",
    "df_full = pd.read_csv('../data/input/input.csv')\n",
    "\n",
    "print(f\"Dataset completo: {df_full.shape}\")\n",
    "print(f\"\\nDistribución de retención:\")\n",
    "print(df_full['retencion'].value_counts())\n",
    "\n",
    "# Filtrar solo validación\n",
    "df_validacion = df_full[df_full['retencion'] == 'validacion'].copy()\n",
    "print(f\"\\nDataset validación: {df_validacion.shape}\")\n",
    "\n",
    "# Guardar IDs\n",
    "ids_validacion = df_validacion['estudiante_id'].values\n",
    "print(f\"IDs de validación: {len(ids_validacion)}\")\n",
    "\n",
    "df_validacion.head()"
   ]
  },
  {
   "cell_type": "markdown",
   "metadata": {},
   "source": [
    "## 4. Carga de Modelos"
   ]
  },
  {
   "cell_type": "code",
   "execution_count": 113,
   "metadata": {},
   "outputs": [
    {
     "name": "stdout",
     "output_type": "stream",
     "text": [
      "Cargando 11 modelos (frecuencia adicionales y RC son constantes)...\n",
      "\n",
      "✓ contenidos_clasificacion\n",
      "✓ contenidos_frecuencia\n",
      "✓ contenidos_severidad\n",
      "✓ adicionales_clasificacion\n",
      "✓ adicionales_severidad\n",
      "✓ medicos_clasificacion\n",
      "✓ medicos_frecuencia\n",
      "✓ medicos_severidad\n",
      "✓ rc_clasificacion\n",
      "✓ rc_frecuencia\n",
      "✓ rc_severidad\n",
      "\n",
      "11/11 modelos cargados\n",
      "Nota: frecuencia_adicionales usa constante 1.0 (no requiere modelo)\n"
     ]
    }
   ],
   "source": [
    "models_path = '../models/'\n",
    "\n",
    "print(\"Cargando 11 modelos (frecuencia adicionales y RC son constantes)...\\n\")\n",
    "\n",
    "# Cargar modelos raw (estructuras completas)\n",
    "modelos_raw = {}\n",
    "archivos_modelos = [\n",
    "    ('contenidos_clasificacion', 'clasificacion_contenidos.pkl'),\n",
    "    ('contenidos_frecuencia', 'frecuencia_contenidos.pkl'),\n",
    "    ('contenidos_severidad', 'severidad_contenidos.pkl'),\n",
    "    ('adicionales_clasificacion', 'clasificacion_adicionales.pkl'),\n",
    "    # adicionales_frecuencia: NO se carga - usamos constante 1.0 (97.4% de casos)\n",
    "    ('adicionales_severidad', 'severidad_adicionales.pkl'),\n",
    "    ('medicos_clasificacion', 'clasificacion_medicos_best_model.pkl'),\n",
    "    ('medicos_frecuencia', 'frecuencia_medicos_best_model.pkl'),  # CORREGIDO\n",
    "    ('medicos_severidad', 'severidad_medicos_extratreesregressor_model.pkl'),\n",
    "    ('rc_clasificacion', 'clasificacion_rc_best_model.pkl'),\n",
    "    ('rc_frecuencia', 'frecuencia_rc_constant_model.pkl'),\n",
    "    ('rc_severidad', 'severidad_rc_model.pkl'),\n",
    "]\n",
    "\n",
    "for nombre, archivo in archivos_modelos:\n",
    "    try:\n",
    "        modelos_raw[nombre] = joblib.load(f'{models_path}{archivo}')\n",
    "        print(f\"✓ {nombre}\")\n",
    "    except Exception as e:\n",
    "        print(f\"✗ {nombre}: {str(e)[:60]}\")\n",
    "\n",
    "print(f\"\\n{len(modelos_raw)}/11 modelos cargados\")\n",
    "print(\"Nota: frecuencia_adicionales usa constante 1.0 (no requiere modelo)\")"
   ]
  },
  {
   "cell_type": "markdown",
   "metadata": {},
   "source": [
    "## 5. Función Universal de Preprocesamiento"
   ]
  },
  {
   "cell_type": "code",
   "execution_count": 114,
   "metadata": {},
   "outputs": [
    {
     "name": "stdout",
     "output_type": "stream",
     "text": [
      "✓ Funciones de preprocesamiento definidas\n"
     ]
    }
   ],
   "source": [
    "def preparar_datos_estandar(df, variables_seleccionadas):\n",
    "    \"\"\"\n",
    "    Preprocesamiento estándar: OneHotEncoding + StandardScaler\n",
    "    \"\"\"\n",
    "    categorical_features = ['año_cursado', 'estudios_area', '2_o_mas_inquilinos', 'genero', 'extintor_incendios']\n",
    "    numeric_features = ['calif_promedio', 'distancia_al_campus']\n",
    "    \n",
    "    df_temp = df.copy()\n",
    "    \n",
    "    # OneHotEncoding (drop='first')\n",
    "    df_encoded = pd.get_dummies(df_temp, columns=categorical_features, drop_first=True)\n",
    "    \n",
    "    # Estandarizar numéricas\n",
    "    scaler = StandardScaler()\n",
    "    for num_col in numeric_features:\n",
    "        if num_col in df_encoded.columns:\n",
    "            df_encoded[num_col] = scaler.fit_transform(df_encoded[[num_col]])\n",
    "    \n",
    "    # Agregar columnas faltantes con 0s\n",
    "    for var in variables_seleccionadas:\n",
    "        if var not in df_encoded.columns:\n",
    "            df_encoded[var] = 0\n",
    "    \n",
    "    return df_encoded[variables_seleccionadas]\n",
    "\n",
    "def preparar_datos_rc_severidad(df):\n",
    "    \"\"\"\n",
    "    Preprocesamiento especial para RC severidad (usa LabelEncoder)\n",
    "    \"\"\"\n",
    "    variables = ['2_o_mas_inquilinos', 'distancia_al_campus', 'genero', \n",
    "                 'extintor_incendios', 'Gastos_Medicos_RC_siniestros_num']\n",
    "    \n",
    "    df_temp = df.copy()\n",
    "    # Agregar columna que no existe en validación\n",
    "    df_temp['Gastos_Medicos_RC_siniestros_num'] = 0\n",
    "    \n",
    "    X = df_temp[variables].copy()\n",
    "    \n",
    "    # LabelEncoder para categóricas\n",
    "    for col in X.columns:\n",
    "        if X[col].dtype == 'object':\n",
    "            le = LabelEncoder()\n",
    "            X[col] = X[col].fillna('missing')\n",
    "            X[col] = le.fit_transform(X[col])\n",
    "    \n",
    "    return X\n",
    "\n",
    "print(\"✓ Funciones de preprocesamiento definidas\")"
   ]
  },
  {
   "cell_type": "markdown",
   "metadata": {},
   "source": [
    "## 6. Variables Seleccionadas por Modelo"
   ]
  },
  {
   "cell_type": "code",
   "execution_count": 115,
   "metadata": {},
   "outputs": [
    {
     "name": "stdout",
     "output_type": "stream",
     "text": [
      "✓ Variables definidas para 10 modelos (RC frecuencia es constante, RC severidad usa preprocesamiento especial)\n"
     ]
    }
   ],
   "source": [
    "# Definir variables que cada modelo espera (después de preprocessing)\n",
    "vars_modelos = {\n",
    "    'contenidos_clasificacion': ['2_o_mas_inquilinos_Si', 'año_cursado_2do año', 'año_cursado_3er año', \n",
    "                                  'año_cursado_4to año', 'año_cursado_posgrado', 'distancia_al_campus'],\n",
    "    \n",
    "    'contenidos_frecuencia': ['2_o_mas_inquilinos_Si', 'año_cursado_2do año', 'año_cursado_3er año', \n",
    "                              'año_cursado_4to año', 'año_cursado_posgrado', 'calif_promedio', \n",
    "                              'distancia_al_campus', 'estudios_area_Ciencias', 'estudios_area_Humanidades', \n",
    "                              'estudios_area_Otro', 'extintor_incendios_Si', 'genero_Masculino', \n",
    "                              'genero_No respuesta', 'genero_Otro'],\n",
    "    \n",
    "    'contenidos_severidad': ['2_o_mas_inquilinos_Si', 'año_cursado_2do año', 'año_cursado_3er año', \n",
    "                             'año_cursado_4to año', 'año_cursado_posgrado', 'distancia_al_campus', \n",
    "                             'extintor_incendios_Si'],\n",
    "    \n",
    "    'adicionales_clasificacion': ['2_o_mas_inquilinos_Si', 'estudios_area_Ciencias', 'estudios_area_Humanidades', \n",
    "                                  'estudios_area_Otro', 'extintor_incendios_Si'],\n",
    "    \n",
    "    'adicionales_severidad': ['2_o_mas_inquilinos_Si', 'año_cursado_2do año', 'año_cursado_3er año', \n",
    "                              'año_cursado_4to año', 'año_cursado_posgrado', 'distancia_al_campus', \n",
    "                              'extintor_incendios_Si', 'genero_Masculino', 'genero_No respuesta', 'genero_Otro'],\n",
    "    \n",
    "    'medicos_clasificacion': ['distancia_al_campus', '2_o_mas_inquilinos_Si'],\n",
    "    \n",
    "    'medicos_frecuencia': ['calif_promedio', 'distancia_al_campus', 'año_cursado_2do año', 'año_cursado_3er año',\n",
    "                           'año_cursado_4to año', 'año_cursado_posgrado', 'estudios_area_Ciencias', \n",
    "                           'estudios_area_Humanidades', 'estudios_area_Otro', 'genero_Masculino', \n",
    "                           'genero_No respuesta', 'genero_Otro', '2_o_mas_inquilinos_Si', 'extintor_incendios_Si'],\n",
    "    \n",
    "    'medicos_severidad': ['distancia_al_campus', 'año_cursado_1er año', 'año_cursado_posgrado', \n",
    "                          'estudios_area_Administracion', '2_o_mas_inquilinos_No', '2_o_mas_inquilinos_Si', \n",
    "                          'genero_Otro', 'extintor_incendios_No', 'extintor_incendios_Si'],\n",
    "    \n",
    "    'rc_clasificacion': ['distancia_al_campus', '2_o_mas_inquilinos_Si'],\n",
    "}\n",
    "\n",
    "print(\"✓ Variables definidas para 10 modelos (RC frecuencia es constante, RC severidad usa preprocesamiento especial)\")"
   ]
  },
  {
   "cell_type": "markdown",
   "metadata": {},
   "source": [
    "## 7. PREDICCIONES POR COBERTURA"
   ]
  },
  {
   "cell_type": "markdown",
   "metadata": {},
   "source": [
    "### 7.1 CONTENIDOS"
   ]
  },
  {
   "cell_type": "code",
   "execution_count": 116,
   "metadata": {},
   "outputs": [
    {
     "name": "stdout",
     "output_type": "stream",
     "text": [
      "================================================================================\n",
      "COBERTURA: CONTENIDOS\n",
      "================================================================================\n",
      "Clasificación: 0/2001 siniestrados (threshold=0.560)\n",
      "Frecuencia media (siniestrados): nan\n",
      "Severidad media (siniestrados): $nan\n",
      "\n",
      "✓ Monto medio: $0.00\n",
      "  Monto total: $0.00\n"
     ]
    }
   ],
   "source": [
    "print(\"=\"*80)\n",
    "print(\"COBERTURA: CONTENIDOS\")\n",
    "print(\"=\"*80)\n",
    "\n",
    "# Clasificación CON THRESHOLD ÓPTIMO\n",
    "X_prep = preparar_datos_estandar(df_validacion, vars_modelos['contenidos_clasificacion'])\n",
    "pred_cont_clas = predict_with_threshold(modelos_raw['contenidos_clasificacion'], X_prep)\n",
    "threshold = get_threshold(modelos_raw['contenidos_clasificacion'])\n",
    "print(f\"Clasificación: {pred_cont_clas.sum()}/{len(pred_cont_clas)} siniestrados (threshold={threshold:.3f})\")\n",
    "\n",
    "# Frecuencia\n",
    "X_prep = preparar_datos_estandar(df_validacion, vars_modelos['contenidos_frecuencia'])\n",
    "modelo = get_model_object(modelos_raw['contenidos_frecuencia'])\n",
    "pred_cont_frec_raw = modelo.predict(X_prep)\n",
    "pred_cont_frec = np.where(pred_cont_clas == 1, pred_cont_frec_raw, 0)\n",
    "print(f\"Frecuencia media (siniestrados): {pred_cont_frec[pred_cont_clas==1].mean():.3f}\")\n",
    "\n",
    "# Severidad\n",
    "X_prep = preparar_datos_estandar(df_validacion, vars_modelos['contenidos_severidad'])\n",
    "modelo = get_model_object(modelos_raw['contenidos_severidad'])\n",
    "pred_cont_sev_raw = np.maximum(modelo.predict(X_prep), 0)\n",
    "pred_cont_sev = np.where(pred_cont_clas == 1, pred_cont_sev_raw, 0)\n",
    "print(f\"Severidad media (siniestrados): ${pred_cont_sev[pred_cont_clas==1].mean():,.2f}\")\n",
    "\n",
    "# Predicción final\n",
    "pred_contenidos = pred_cont_clas * pred_cont_frec * pred_cont_sev\n",
    "print(f\"\\n✓ Monto medio: ${pred_contenidos.mean():,.2f}\")\n",
    "print(f\"  Monto total: ${pred_contenidos.sum():,.2f}\")"
   ]
  },
  {
   "cell_type": "markdown",
   "metadata": {},
   "source": [
    "### 7.2 GASTOS ADICIONALES"
   ]
  },
  {
   "cell_type": "code",
   "execution_count": 117,
   "metadata": {},
   "outputs": [
    {
     "name": "stdout",
     "output_type": "stream",
     "text": [
      "================================================================================\n",
      "COBERTURA: GASTOS ADICIONALES\n",
      "================================================================================\n",
      "Clasificación: 101/2001 siniestrados (threshold=0.100)\n",
      "Frecuencia: 1.0 (constante - 97.4% de casos históricos)\n",
      "Severidad media (siniestrados): $5,597.39\n",
      "\n",
      "✓ Monto medio: $282.53\n",
      "  Monto total: $565,336.24\n"
     ]
    }
   ],
   "source": [
    "print(\"=\"*80)\n",
    "print(\"COBERTURA: GASTOS ADICIONALES\")\n",
    "print(\"=\"*80)\n",
    "\n",
    "# Clasificación CON THRESHOLD ÓPTIMO\n",
    "X_prep = preparar_datos_estandar(df_validacion, vars_modelos['adicionales_clasificacion'])\n",
    "pred_adic_clas = predict_with_threshold(modelos_raw['adicionales_clasificacion'], X_prep)\n",
    "threshold = get_threshold(modelos_raw['adicionales_clasificacion'])\n",
    "print(f\"Clasificación: {pred_adic_clas.sum()}/{len(pred_adic_clas)} siniestrados (threshold={threshold:.3f})\")\n",
    "\n",
    "# Frecuencia (CONSTANTE = 1.0, ya que 97.4% de casos tienen frecuencia 1)\n",
    "pred_adic_frec = np.where(pred_adic_clas == 1, 1.0, 0)\n",
    "print(f\"Frecuencia: 1.0 (constante - 97.4% de casos históricos)\")\n",
    "\n",
    "# Severidad\n",
    "X_prep = preparar_datos_estandar(df_validacion, vars_modelos['adicionales_severidad'])\n",
    "modelo = get_model_object(modelos_raw['adicionales_severidad'])\n",
    "pred_adic_sev_raw = np.maximum(modelo.predict(X_prep), 0)\n",
    "pred_adic_sev = np.where(pred_adic_clas == 1, pred_adic_sev_raw, 0)\n",
    "print(f\"Severidad media (siniestrados): ${pred_adic_sev[pred_adic_clas==1].mean():,.2f}\")\n",
    "\n",
    "# Predicción final\n",
    "pred_adicionales = pred_adic_clas * pred_adic_frec * pred_adic_sev\n",
    "print(f\"\\n✓ Monto medio: ${pred_adicionales.mean():,.2f}\")\n",
    "print(f\"  Monto total: ${pred_adicionales.sum():,.2f}\")"
   ]
  },
  {
   "cell_type": "markdown",
   "metadata": {},
   "source": [
    "### 7.3 GASTOS MÉDICOS RC"
   ]
  },
  {
   "cell_type": "code",
   "execution_count": 118,
   "metadata": {},
   "outputs": [
    {
     "name": "stdout",
     "output_type": "stream",
     "text": [
      "================================================================================\n",
      "COBERTURA: GASTOS MÉDICOS RC\n",
      "================================================================================\n",
      "Clasificación: 27/2001 siniestrados (threshold=0.650)\n",
      "Frecuencia media (siniestrados): 1.148\n",
      "Severidad media (siniestrados): $26,994.26\n",
      "\n",
      "✓ Monto medio: $409.99\n",
      "  Monto total: $820,381.89\n"
     ]
    }
   ],
   "source": [
    "print(\"=\"*80)\n",
    "print(\"COBERTURA: GASTOS MÉDICOS RC\")\n",
    "print(\"=\"*80)\n",
    "\n",
    "# Clasificación CON THRESHOLD ÓPTIMO\n",
    "X_prep = preparar_datos_estandar(df_validacion, vars_modelos['medicos_clasificacion'])\n",
    "pred_med_clas = predict_with_threshold(modelos_raw['medicos_clasificacion'], X_prep)\n",
    "threshold = get_threshold(modelos_raw['medicos_clasificacion'])\n",
    "print(f\"Clasificación: {pred_med_clas.sum()}/{len(pred_med_clas)} siniestrados (threshold={threshold:.3f})\")\n",
    "\n",
    "# Frecuencia\n",
    "X_prep = preparar_datos_estandar(df_validacion, vars_modelos['medicos_frecuencia'])\n",
    "modelo = get_model_object(modelos_raw['medicos_frecuencia'])\n",
    "pred_med_frec_raw = modelo.predict(X_prep)\n",
    "pred_med_frec = np.where(pred_med_clas == 1, pred_med_frec_raw, 0)\n",
    "print(f\"Frecuencia media (siniestrados): {pred_med_frec[pred_med_clas==1].mean():.3f}\")\n",
    "\n",
    "# Severidad\n",
    "X_prep = preparar_datos_estandar(df_validacion, vars_modelos['medicos_severidad'])\n",
    "modelo = get_model_object(modelos_raw['medicos_severidad'])\n",
    "pred_med_sev_raw = np.maximum(modelo.predict(X_prep), 0)\n",
    "pred_med_sev = np.where(pred_med_clas == 1, pred_med_sev_raw, 0)\n",
    "print(f\"Severidad media (siniestrados): ${pred_med_sev[pred_med_clas==1].mean():,.2f}\")\n",
    "\n",
    "# Predicción final\n",
    "pred_medicos = pred_med_clas * pred_med_frec * pred_med_sev\n",
    "print(f\"\\n✓ Monto medio: ${pred_medicos.mean():,.2f}\")\n",
    "print(f\"  Monto total: ${pred_medicos.sum():,.2f}\")"
   ]
  },
  {
   "cell_type": "markdown",
   "metadata": {},
   "source": [
    "### 7.4 RESPONSABILIDAD CIVIL"
   ]
  },
  {
   "cell_type": "code",
   "execution_count": 119,
   "metadata": {},
   "outputs": [
    {
     "name": "stdout",
     "output_type": "stream",
     "text": [
      "================================================================================\n",
      "COBERTURA: RESPONSABILIDAD CIVIL\n",
      "================================================================================\n",
      "Clasificación: 166/2001 siniestrados (threshold=0.650)\n",
      "Frecuencia: 1.0 (constante)\n",
      "Severidad media (siniestrados): $9,997.72\n",
      "\n",
      "✓ Monto medio: $829.40\n",
      "  Monto total: $1,659,622.26\n"
     ]
    }
   ],
   "source": [
    "print(\"=\"*80)\n",
    "print(\"COBERTURA: RESPONSABILIDAD CIVIL\")\n",
    "print(\"=\"*80)\n",
    "\n",
    "# Clasificación CON THRESHOLD ÓPTIMO\n",
    "X_prep = preparar_datos_estandar(df_validacion, vars_modelos['rc_clasificacion'])\n",
    "pred_rc_clas = predict_with_threshold(modelos_raw['rc_clasificacion'], X_prep)\n",
    "threshold = get_threshold(modelos_raw['rc_clasificacion'])\n",
    "print(f\"Clasificación: {pred_rc_clas.sum()}/{len(pred_rc_clas)} siniestrados (threshold={threshold:.3f})\")\n",
    "\n",
    "# Frecuencia (modelo constante = 1.0)\n",
    "pred_rc_frec = np.where(pred_rc_clas == 1, 1.0, 0)\n",
    "print(f\"Frecuencia: 1.0 (constante)\")\n",
    "\n",
    "# Severidad (preprocesamiento especial con LabelEncoder)\n",
    "X_prep = preparar_datos_rc_severidad(df_validacion)\n",
    "modelo = get_model_object(modelos_raw['rc_severidad'])\n",
    "pred_rc_sev_raw = np.maximum(modelo.predict(X_prep), 0)\n",
    "pred_rc_sev = np.where(pred_rc_clas == 1, pred_rc_sev_raw, 0)\n",
    "print(f\"Severidad media (siniestrados): ${pred_rc_sev[pred_rc_clas==1].mean():,.2f}\")\n",
    "\n",
    "# Predicción final\n",
    "pred_rc = pred_rc_clas * pred_rc_frec * pred_rc_sev\n",
    "print(f\"\\n✓ Monto medio: ${pred_rc.mean():,.2f}\")\n",
    "print(f\"  Monto total: ${pred_rc.sum():,.2f}\")"
   ]
  },
  {
   "cell_type": "markdown",
   "metadata": {},
   "source": [
    "## 8. Predicción Total y Estadísticas"
   ]
  },
  {
   "cell_type": "code",
   "execution_count": 120,
   "metadata": {},
   "outputs": [
    {
     "name": "stdout",
     "output_type": "stream",
     "text": [
      "================================================================================\n",
      "PREDICCIÓN TOTAL\n",
      "================================================================================\n",
      "\n",
      "Registros: 2001\n",
      "Media: $1,521.91\n",
      "Mediana: $0.00\n",
      "Desv. Std: $5,637.85\n",
      "Mínimo: $0.00\n",
      "Máximo: $61,911.08\n",
      "Total: $3,045,340.39\n",
      "\n",
      "Contribución por cobertura:\n",
      "  Contenidos: $0.00 (0.0%)\n",
      "  Adicionales: $565,336.24 (18.6%)\n",
      "  Médicos RC: $820,381.89 (26.9%)\n",
      "  RC: $1,659,622.26 (54.5%)\n"
     ]
    }
   ],
   "source": [
    "# Sumar todas las coberturas\n",
    "prediccion_total = pred_contenidos + pred_adicionales + pred_medicos + pred_rc\n",
    "\n",
    "print(\"=\"*80)\n",
    "print(\"PREDICCIÓN TOTAL\")\n",
    "print(\"=\"*80)\n",
    "print(f\"\\nRegistros: {len(prediccion_total)}\")\n",
    "print(f\"Media: ${prediccion_total.mean():,.2f}\")\n",
    "print(f\"Mediana: ${np.median(prediccion_total):,.2f}\")\n",
    "print(f\"Desv. Std: ${prediccion_total.std():,.2f}\")\n",
    "print(f\"Mínimo: ${prediccion_total.min():,.2f}\")\n",
    "print(f\"Máximo: ${prediccion_total.max():,.2f}\")\n",
    "print(f\"Total: ${prediccion_total.sum():,.2f}\")\n",
    "\n",
    "print(f\"\\nContribución por cobertura:\")\n",
    "total = prediccion_total.sum()\n",
    "print(f\"  Contenidos: ${pred_contenidos.sum():,.2f} ({100*pred_contenidos.sum()/total:.1f}%)\")\n",
    "print(f\"  Adicionales: ${pred_adicionales.sum():,.2f} ({100*pred_adicionales.sum()/total:.1f}%)\")\n",
    "print(f\"  Médicos RC: ${pred_medicos.sum():,.2f} ({100*pred_medicos.sum()/total:.1f}%)\")\n",
    "print(f\"  RC: ${pred_rc.sum():,.2f} ({100*pred_rc.sum()/total:.1f}%)\")"
   ]
  },
  {
   "cell_type": "markdown",
   "metadata": {},
   "source": [
    "## 9. Preparar y Exportar Resultados"
   ]
  },
  {
   "cell_type": "code",
   "execution_count": 121,
   "metadata": {},
   "outputs": [
    {
     "name": "stdout",
     "output_type": "stream",
     "text": [
      "DataFrame creado: (2001, 2)\n",
      "\n",
      "Primeras 10 filas:\n",
      "    id   prediccion\n",
      "0    8     0.000000\n",
      "1   16  3222.258281\n",
      "2   31     0.000000\n",
      "3   49     0.000000\n",
      "4   56  3131.241680\n",
      "5   67     0.000000\n",
      "6   83     0.000000\n",
      "7   98     0.000000\n",
      "8  102     0.000000\n",
      "9  115     0.000000\n",
      "\n",
      "Últimas 10 filas:\n",
      "        id  prediccion\n",
      "1991  9970         0.0\n",
      "1992  9973         0.0\n",
      "1993  9975         0.0\n",
      "1994  9976         0.0\n",
      "1995  9979         0.0\n",
      "1996  9981         0.0\n",
      "1997  9991         0.0\n",
      "1998  9992         0.0\n",
      "1999  9993         0.0\n",
      "2000  9998         0.0\n"
     ]
    }
   ],
   "source": [
    "# Crear DataFrame final\n",
    "df_predicciones = pd.DataFrame({\n",
    "    'id': ids_validacion,\n",
    "    'prediccion': prediccion_total\n",
    "})\n",
    "\n",
    "print(f\"DataFrame creado: {df_predicciones.shape}\")\n",
    "print(f\"\\nPrimeras 10 filas:\")\n",
    "print(df_predicciones.head(10))\n",
    "\n",
    "print(f\"\\nÚltimas 10 filas:\")\n",
    "print(df_predicciones.tail(10))"
   ]
  },
  {
   "cell_type": "code",
   "execution_count": 122,
   "metadata": {},
   "outputs": [
    {
     "name": "stdout",
     "output_type": "stream",
     "text": [
      "================================================================================\n",
      "✓ EXPORTACIÓN COMPLETADA\n",
      "================================================================================\n",
      "\n",
      "Archivo: ../data/output/predicciones.csv\n",
      "Registros: 2001\n",
      "Tamaño: 21,492 bytes\n",
      "\n",
      "Verificación: (2001, 2)\n",
      "Columnas: ['id', 'prediccion']\n",
      "\n",
      "Primeras 5 filas:\n",
      "   id   prediccion\n",
      "0   8     0.000000\n",
      "1  16  3222.258281\n",
      "2  31     0.000000\n",
      "3  49     0.000000\n",
      "4  56  3131.241680\n",
      "\n",
      "✓ Archivo verificado correctamente\n"
     ]
    }
   ],
   "source": [
    "# Exportar a CSV\n",
    "output_path = '../data/output/predicciones.csv'\n",
    "df_predicciones.to_csv(output_path, index=False)\n",
    "\n",
    "print(\"=\"*80)\n",
    "print(\"✓ EXPORTACIÓN COMPLETADA\")\n",
    "print(\"=\"*80)\n",
    "print(f\"\\nArchivo: {output_path}\")\n",
    "print(f\"Registros: {len(df_predicciones)}\")\n",
    "\n",
    "# Verificar\n",
    "import os\n",
    "if os.path.exists(output_path):\n",
    "    file_size = os.path.getsize(output_path)\n",
    "    print(f\"Tamaño: {file_size:,} bytes\")\n",
    "    \n",
    "    # Leer de vuelta\n",
    "    df_verif = pd.read_csv(output_path)\n",
    "    print(f\"\\nVerificación: {df_verif.shape}\")\n",
    "    print(f\"Columnas: {list(df_verif.columns)}\")\n",
    "    print(f\"\\nPrimeras 5 filas:\")\n",
    "    print(df_verif.head())\n",
    "    print(\"\\n✓ Archivo verificado correctamente\")"
   ]
  }
 ],
 "metadata": {
  "kernelspec": {
   "display_name": "competencia_cas_python",
   "language": "python",
   "name": "python3"
  },
  "language_info": {
   "codemirror_mode": {
    "name": "ipython",
    "version": 3
   },
   "file_extension": ".py",
   "mimetype": "text/x-python",
   "name": "python",
   "nbconvert_exporter": "python",
   "pygments_lexer": "ipython3",
   "version": "3.13.7"
  }
 },
 "nbformat": 4,
 "nbformat_minor": 4
}
